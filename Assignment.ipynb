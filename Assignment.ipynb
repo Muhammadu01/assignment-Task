{
 "cells": [
  {
   "cell_type": "code",
   "execution_count": 3,
   "id": "efa8aa60-4838-45ab-a389-1972db2cbb0c",
   "metadata": {},
   "outputs": [
    {
     "name": "stdin",
     "output_type": "stream",
     "text": [
      "please enter your name:  BELLO\n"
     ]
    },
    {
     "name": "stdout",
     "output_type": "stream",
     "text": [
      "BELLO\n"
     ]
    }
   ],
   "source": [
    "#getting user input\n",
    "name=input(\"please enter your name: \")\n",
    "print(name)"
   ]
  },
  {
   "cell_type": "code",
   "execution_count": 1,
   "id": "4890c433-bcca-4929-9004-4919991a25b0",
   "metadata": {},
   "outputs": [
    {
     "name": "stdout",
     "output_type": "stream",
     "text": [
      "Hello, BELLO!\n"
     ]
    }
   ],
   "source": [
    "name = \"BELLO\"\n",
    "print(f\"Hello, {name}!\") # Output: Hello, Heni!"
   ]
  },
  {
   "cell_type": "code",
   "execution_count": 2,
   "id": "c6a41a5e-c646-45aa-9bbe-c620cf22d118",
   "metadata": {},
   "outputs": [
    {
     "name": "stdout",
     "output_type": "stream",
     "text": [
      "Age: 20\n"
     ]
    }
   ],
   "source": [
    "age=20\n",
    "print(\"Age: \" + str(age)) "
   ]
  },
  {
   "cell_type": "code",
   "execution_count": 3,
   "id": "9c6d98cb-03eb-4a38-8cd8-1e3f19c44558",
   "metadata": {},
   "outputs": [],
   "source": [
    "#changing datatypes\n",
    "y=3\n",
    "y=float(y)"
   ]
  },
  {
   "cell_type": "code",
   "execution_count": 4,
   "id": "62863fb6-0869-4d83-a071-54fc5fe1d520",
   "metadata": {},
   "outputs": [
    {
     "name": "stdout",
     "output_type": "stream",
     "text": [
      "<class 'float'>\n"
     ]
    }
   ],
   "source": [
    "print(type(y))"
   ]
  },
  {
   "cell_type": "code",
   "execution_count": 10,
   "id": "5ddac65e-64dc-4a09-8076-ca65d1751e28",
   "metadata": {},
   "outputs": [
    {
     "name": "stdout",
     "output_type": "stream",
     "text": [
      "language\n"
     ]
    }
   ],
   "source": [
    "def my_func():\n",
    "  l=\"language\"\n",
    "  print(l)\n",
    "my_func()"
   ]
  },
  {
   "cell_type": "code",
   "execution_count": 11,
   "id": "2cabd3dc-3a09-4466-ad3f-752b93cb747e",
   "metadata": {},
   "outputs": [
    {
     "name": "stdout",
     "output_type": "stream",
     "text": [
      "2\n",
      "4\n",
      "6\n"
     ]
    }
   ],
   "source": [
    "values=[2,4,6]\n",
    "val1,  val2, val3=values\n",
    "print(val1)\n",
    "print(val2)\n",
    "print(val3)"
   ]
  },
  {
   "cell_type": "code",
   "execution_count": 15,
   "id": "24c8ca5a-3775-49db-a51e-2b9d04a71107",
   "metadata": {},
   "outputs": [
    {
     "name": "stdout",
     "output_type": "stream",
     "text": [
      "False\n"
     ]
    }
   ],
   "source": [
    "print(3==2)"
   ]
  },
  {
   "cell_type": "code",
   "execution_count": 16,
   "id": "41e5add1-f482-42c9-b783-684312341f15",
   "metadata": {},
   "outputs": [
    {
     "name": "stdout",
     "output_type": "stream",
     "text": [
      "True\n"
     ]
    }
   ],
   "source": [
    "print(3==3)"
   ]
  },
  {
   "cell_type": "code",
   "execution_count": 31,
   "id": "b7a0a85a-18a3-4ad6-bc29-a36435379362",
   "metadata": {},
   "outputs": [
    {
     "name": "stdout",
     "output_type": "stream",
     "text": [
      "hello\n"
     ]
    }
   ],
   "source": [
    "p=3\n",
    "q=4\n",
    "if p>2 and q>3:\n",
    "    print(\"hello\")"
   ]
  },
  {
   "cell_type": "code",
   "execution_count": 32,
   "id": "3c76accd-982a-4265-81fc-a5405cca45a5",
   "metadata": {},
   "outputs": [
    {
     "name": "stdout",
     "output_type": "stream",
     "text": [
      "True\n",
      "False\n"
     ]
    }
   ],
   "source": [
    "a = [1, 2]\n",
    "b = [1, 2]\n",
    "print(a == b) # True → same content\n",
    "print(a is b) # False → different objects\n"
   ]
  },
  {
   "cell_type": "code",
   "execution_count": 50,
   "id": "0efcb681-af81-4f10-ab0f-7f4b7926f8fd",
   "metadata": {},
   "outputs": [
    {
     "name": "stdout",
     "output_type": "stream",
     "text": [
      "3\n"
     ]
    }
   ],
   "source": [
    "x, y, z = 1, 2, 3\n",
    "if x>y and x>z:\n",
    "    print(x)\n",
    "elif y>z:\n",
    "    print(y)\n",
    "else:\n",
    "     print(z)"
   ]
  },
  {
   "cell_type": "code",
   "execution_count": 52,
   "id": "e55dec3f-ac02-43ea-b98c-54920695a9ec",
   "metadata": {},
   "outputs": [
    {
     "name": "stdout",
     "output_type": "stream",
     "text": [
      "yes\n"
     ]
    }
   ],
   "source": [
    "u=10\n",
    "if u>0:\n",
    "    print(\"yes\")\n",
    "elif u%2==0:\n",
    "    print(\"even number\")\n",
    "else:\n",
    "    print(\"odd\")\n",
    "    "
   ]
  },
  {
   "cell_type": "code",
   "execution_count": 66,
   "id": "01cac3cf-6692-4c7d-8a02-46da3a8ffe3d",
   "metadata": {},
   "outputs": [
    {
     "name": "stdin",
     "output_type": "stream",
     "text": [
      "Enter your username: rferer\n",
      "Enter your password: 2323\n"
     ]
    },
    {
     "name": "stdout",
     "output_type": "stream",
     "text": [
      "Access denied\n"
     ]
    }
   ],
   "source": [
    "\n",
    "user_name=input(\"Enter your username:\")\n",
    "passwprd1=input(\"Enter your password:\")\n",
    "username=\"bello\"\n",
    "password=1\n",
    "if user_name==username and password1==password:\n",
    "    print(\"Access granted\")\n",
    "else:\n",
    "    print(\"Access denied\")"
   ]
  },
  {
   "cell_type": "code",
   "execution_count": 10,
   "id": "55396928-355c-4715-9b31-8a265b1f727c",
   "metadata": {},
   "outputs": [
    {
     "name": "stdout",
     "output_type": "stream",
     "text": [
      "checkjed: 7\n",
      "checkjed: 13\n",
      "checkjed: 9\n",
      "First even number: 10\n",
      "checkjed: 15\n"
     ]
    }
   ],
   "source": [
    "numbers = [7, 13, 9, 10, 15]\n",
    "for num in numbers:\n",
    "    if num % 2 == 0:\n",
    "        print(\"First even number:\",num)\n",
    "    else:\n",
    "        print(\"checkjed:\",num)"
   ]
  },
  {
   "cell_type": "code",
   "execution_count": 95,
   "id": "c0761262-1a0b-4cea-892b-9684432b609a",
   "metadata": {},
   "outputs": [
    {
     "name": "stdout",
     "output_type": "stream",
     "text": [
      "Sending SMS...\n",
      "Sending push notification...\n"
     ]
    }
   ],
   "source": [
    "notifications = [\"sms\", \"email\", \"push\"]\n",
    "for n_type in notifications:\n",
    "    if n_type == \"sms\":\n",
    "        print(\"Sending SMS...\")\n",
    "    elif n_type == \"email\":\n",
    "        pass\n",
    "    elif n_type == \"push\":\n",
    "        print(\"Sending push notification...\")"
   ]
  },
  {
   "cell_type": "code",
   "execution_count": 96,
   "id": "1f52dbdb-d53d-4891-83dc-3236c842c118",
   "metadata": {},
   "outputs": [
    {
     "name": "stdout",
     "output_type": "stream",
     "text": [
      "I saw cat\n",
      "I saw dog\n",
      "I saw zibra\n"
     ]
    }
   ],
   "source": [
    "animals=[\"cat\",\"dog\",\"zibra\"]\n",
    "for animal in animals:\n",
    "    print(\"I saw\", animal)"
   ]
  },
  {
   "cell_type": "code",
   "execution_count": 98,
   "id": "e1f7076e-2ce2-4f3f-98c3-40e5d107f54c",
   "metadata": {},
   "outputs": [
    {
     "name": "stdout",
     "output_type": "stream",
     "text": [
      "0\n",
      "1\n",
      "2\n",
      "3\n",
      "4\n"
     ]
    }
   ],
   "source": [
    "for i in range(5):\n",
    "    print(i)"
   ]
  },
  {
   "cell_type": "code",
   "execution_count": 100,
   "id": "05241f04-8dae-4664-9218-9600792bce98",
   "metadata": {},
   "outputs": [
    {
     "name": "stdout",
     "output_type": "stream",
     "text": [
      "H\n",
      "E\n",
      "L\n",
      "L\n",
      "O\n"
     ]
    }
   ],
   "source": [
    "#Looping over characters in a string\n",
    "message = \"Hello\"\n",
    "for char in message:\n",
    "    print(char.upper())"
   ]
  },
  {
   "cell_type": "code",
   "execution_count": null,
   "id": "8830c41f-4a04-47e6-bd0f-2645cef1b235",
   "metadata": {},
   "outputs": [],
   "source": [
    "# Example: Count Until 5\n",
    "count = 1\n",
    "while count <= 5:\n",
    "    print(\"Count is:\", count)\n",
    "count -= 1"
   ]
  },
  {
   "cell_type": "code",
   "execution_count": 1,
   "id": "8e4d73dd-6de6-44b8-b823-f1e8085ee3e0",
   "metadata": {},
   "outputs": [
    {
     "name": "stdout",
     "output_type": "stream",
     "text": [
      "2\n",
      "4\n",
      "6\n",
      "8\n"
     ]
    }
   ],
   "source": [
    "lst=[2,4,6,8]\n",
    "for i in lst:\n",
    "    print(i)"
   ]
  },
  {
   "cell_type": "code",
   "execution_count": 2,
   "id": "b7299dc1-739b-498e-8c74-752fc14613b0",
   "metadata": {},
   "outputs": [
    {
     "name": "stdout",
     "output_type": "stream",
     "text": [
      "['mango', 'orange', 'pear']\n"
     ]
    }
   ],
   "source": [
    "mylist=[\"mango\",\"orange\",\"pear\"]\n",
    "print(mylist)"
   ]
  },
  {
   "cell_type": "code",
   "execution_count": 14,
   "id": "f9e64126-e075-4b1e-8c35-5d10b747ac8d",
   "metadata": {},
   "outputs": [
    {
     "name": "stdout",
     "output_type": "stream",
     "text": [
      "[1, 3, 4]\n",
      "[4, 1, 3]\n"
     ]
    }
   ],
   "source": [
    "# Using sorted() — returns a new sorted list\n",
    "values = [4, 1, 3]\n",
    "sorted_nums = sorted(values)\n",
    "print(sorted_nums) # [1, 3, 4]\n",
    "print(values)"
   ]
  },
  {
   "cell_type": "code",
   "execution_count": 16,
   "id": "5e4c23be-12e3-4812-a25b-2e28d01b9b9f",
   "metadata": {},
   "outputs": [
    {
     "name": "stdout",
     "output_type": "stream",
     "text": [
      "(1, 2, 3)\n",
      "('a', 'b', 'c')\n"
     ]
    }
   ],
   "source": [
    "# Creating a tuple using parentheses\n",
    "tuple1 = (1, 2, 3)\n",
    "tuple2 = ('a','b','c')\n",
    "print(tuple1)\n",
    "print(tuple2)"
   ]
  },
  {
   "cell_type": "code",
   "execution_count": 17,
   "id": "aba2a3c1-abc7-41dd-b267-0db434795749",
   "metadata": {},
   "outputs": [
    {
     "data": {
      "image/png": "[encoded data removed]",
      "text/plain": [
       "<Figure size 640x480 with 1 Axes>"
      ]
     },
     "metadata": {},
     "output_type": "display_data"
    }
   ],
   "source": [
    "#basic visualizaton using matplotlib\n",
    "#line plot\n",
    "import matplotlib.pyplot as plt\n",
    "\n",
    "x = [1, 2, 3, 4, 5]\n",
    "y = [2, 3, 5, 7, 11]\n",
    "\n",
    "plt.plot(x, y)\n",
    "plt.title(\"Line Plot Example\")\n",
    "plt.xlabel(\"X Axis\")\n",
    "plt.ylabel(\"Y Axis\")\n",
    "plt.grid(True)\n",
    "plt.show()\n"
   ]
  },
  {
   "cell_type": "code",
   "execution_count": 18,
   "id": "9a0afa14-9960-4ee4-9105-422070ec1833",
   "metadata": {},
   "outputs": [
    {
     "data": {
      "image/png": "[encoded data removed]",
      "text/plain": [
       "<Figure size 640x480 with 1 Axes>"
      ]
     },
     "metadata": {},
     "output_type": "display_data"
    }
   ],
   "source": [
    "#bar chart\n",
    "categories = ['Math', 'Science', 'English', 'History']\n",
    "scores = [85, 90, 75, 88]\n",
    "\n",
    "plt.bar(categories, scores, color='skyblue')\n",
    "plt.title(\"Student Scores\")\n",
    "plt.xlabel(\"Subjects\")\n",
    "plt.ylabel(\"Scores\")\n",
    "plt.show()\n"
   ]
  },
  {
   "cell_type": "code",
   "execution_count": 20,
   "id": "c2e6ffae-d215-48d3-b71f-5f08cc3a06c0",
   "metadata": {},
   "outputs": [
    {
     "data": {
      "image/png": "[encoded data removed]",
      "text/plain": [
       "<Figure size 640x480 with 1 Axes>"
      ]
     },
     "metadata": {},
     "output_type": "display_data"
    }
   ],
   "source": [
    " # pie chart\n",
    "labels = ['Apples', 'Bananas', 'Cherries', 'Dates']\n",
    "sizes = [30, 25, 25, 20]\n",
    "\n",
    "plt.pie(sizes, labels=labels, autopct='%1.1f%%', startangle=90)\n",
    "plt.title(\"Fruit Distribution\")\n",
    "plt.axis('equal') \n",
    "plt.show()\n"
   ]
  },
  {
   "cell_type": "code",
   "execution_count": 21,
   "id": "100e862f-ad2a-4dbe-83a8-6ebf588d22c3",
   "metadata": {},
   "outputs": [
    {
     "data": {
      "image/png": "[encoded data removed]",
      "text/plain": [
       "<Figure size 640x480 with 1 Axes>"
      ]
     },
     "metadata": {},
     "output_type": "display_data"
    }
   ],
   "source": [
    "import numpy as np\n",
    "\n",
    "data = np.random.randn(1000)  # Normal distribution\n",
    "\n",
    "plt.hist(data, bins=30, color='green', edgecolor='black')\n",
    "plt.title(\"Histogram Example\")\n",
    "plt.xlabel(\"Value\")\n",
    "plt.ylabel(\"Frequency\")\n",
    "plt.show()\n"
   ]
  },
  {
   "cell_type": "code",
   "execution_count": 22,
   "id": "12f765f2-fac0-46a2-a41d-73ae520ded4c",
   "metadata": {},
   "outputs": [
    {
     "data": {
      "image/png": "[encoded data removed]",
      "text/plain": [
       "<Figure size 640x480 with 1 Axes>"
      ]
     },
     "metadata": {},
     "output_type": "display_data"
    }
   ],
   "source": [
    "x = [1, 2, 3, 4, 5]\n",
    "y = [5, 7, 6, 8, 7]\n",
    "\n",
    "plt.scatter(x, y, color='red')\n",
    "plt.title(\"Scatter Plot Example\")\n",
    "plt.xlabel(\"X\")\n",
    "plt.ylabel(\"Y\")\n",
    "plt.show()\n"
   ]
  },
  {
   "cell_type": "code",
   "execution_count": null,
   "id": "c5f1ba4e-0682-4fc1-996e-58e5037cba3d",
   "metadata": {},
   "outputs": [],
   "source": []
  }
 ],
 "metadata": {
  "kernelspec": {
   "display_name": "Python 3 (ipykernel)",
   "language": "python",
   "name": "python3"
  },
  "language_info": {
   "codemirror_mode": {
    "name": "ipython",
    "version": 3
   },
   "file_extension": ".py",
   "mimetype": "text/x-python",
   "name": "python",
   "nbconvert_exporter": "python",
   "pygments_lexer": "ipython3",
   "version": "3.12.7"
  }
 },
 "nbformat": 4,
 "nbformat_minor": 5
}
