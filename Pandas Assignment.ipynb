{
 "cells": [
  {
   "cell_type": "code",
   "execution_count": 1,
   "id": "db8f6d97-4f7e-45c5-b4fb-f65a1fde7593",
   "metadata": {},
   "outputs": [
    {
     "name": "stdout",
     "output_type": "stream",
     "text": [
      "Filtered values > 75:\n",
      " 2025-01-04    80\n",
      "2025-01-10    80\n",
      "dtype: int32\n",
      "Mean of filtered values: 80.0\n"
     ]
    }
   ],
   "source": [
    "import numpy as np\n",
    "import pandas as pd\n",
    "\n",
    "#Exercise1\n",
    "# Create series\n",
    "data = np.random.randint(50, 100, 10)\n",
    "index = pd.date_range('2025-01-01', periods=10)\n",
    "series = pd.Series(data, index=index)\n",
    "\n",
    "# Filter and compute mean\n",
    "filtered = series[series > 75]\n",
    "mean_filtered = filtered.mean()\n",
    "\n",
    "print(\"Filtered values > 75:\\n\", filtered)\n",
    "print(\"Mean of filtered values:\", mean_filtered)\n"
   ]
  },
  {
   "cell_type": "code",
   "execution_count": 2,
   "id": "92ececc3-1b8f-4bdd-86ef-fc7d630fe556",
   "metadata": {},
   "outputs": [
    {
     "name": "stdout",
     "output_type": "stream",
     "text": [
      "   Student   Course  Score  Year Grade\n",
      "2  Charlie     Math     92  2025     A\n",
      "0    Alice     Math     88  2024     B\n",
      "4      Eve     Math     85  2025     B\n",
      "1      Bob  Science     75  2025     C\n",
      "3    Diana  Science     67  2024     D\n"
     ]
    }
   ],
   "source": [
    "#Exercise2\n",
    "data = {\n",
    "    'Student': ['Alice', 'Bob', 'Charlie', 'Diana', 'Eve'],\n",
    "    'Course': ['Math', 'Science', 'Math', 'Science', 'Math'],\n",
    "    'Score': [88, 75, 92, 67, 85],\n",
    "    'Year': [2024, 2025, 2025, 2024, 2025]\n",
    "}\n",
    "df = pd.DataFrame(data)\n",
    "\n",
    "# Add Grade\n",
    "def grade(score):\n",
    "    if score >= 90: return 'A'\n",
    "    elif score >= 80: return 'B'\n",
    "    elif score >= 70: return 'C'\n",
    "    else: return 'D'\n",
    "\n",
    "df['Grade'] = df['Score'].apply(grade)\n",
    "\n",
    "# Sort\n",
    "df_sorted = df.sort_values(by='Score', ascending=False)\n",
    "print(df_sorted)"
   ]
  },
  {
   "cell_type": "code",
   "execution_count": 25,
   "id": "95215ef6-4cb0-4c3a-b554-8e0464961a21",
   "metadata": {},
   "outputs": [],
   "source": [
    "#Exercise3\n",
    "df = pd.read_csv('student_data.csv')\n",
    "\n",
    "# Fill missing Scores with median\n",
    "df['Score'] = df['Score'].fillna(df['Score'].median())\n",
    "\n",
    "# Drop rows with missing Name\n",
    "df_cleaned = df.dropna(subset=['Name'])\n",
    "\n",
    "# Save to new CSV\n",
    "df_cleaned.to_csv('cleaned_student_data.csv', index=False)\n"
   ]
  },
  {
   "cell_type": "code",
   "execution_count": 3,
   "id": "0c4f9933-5198-4a57-ac53-286e6b2e14d4",
   "metadata": {},
   "outputs": [
    {
     "name": "stdout",
     "output_type": "stream",
     "text": [
      "      Name  Score Department  Above_Avg\n",
      "0    Alice     85       Math       True\n",
      "1      Bob     90    Physics      False\n",
      "2  Charlie     78       Math      False\n",
      "3    Diana     92    Physics       True\n"
     ]
    }
   ],
   "source": [
    "#Exercise4\n",
    "df_scores = pd.DataFrame({\n",
    "    'Name': ['Alice', 'Bob', 'Charlie', 'Diana'],\n",
    "    'Score': [85, 90, 78, 92]\n",
    "})\n",
    "\n",
    "df_depts = pd.DataFrame({\n",
    "    'Name': ['Alice', 'Bob', 'Charlie', 'Diana'],\n",
    "    'Department': ['Math', 'Physics', 'Math', 'Physics']\n",
    "})\n",
    "\n",
    "# Inner and left merges\n",
    "df_inner = pd.merge(df_scores, df_depts, on='Name', how='inner')\n",
    "df_left = pd.merge(df_scores, df_depts, on='Name', how='left')\n",
    "\n",
    "# Add above average column\n",
    "avg_scores = df_inner.groupby('Department')['Score'].transform('mean')\n",
    "df_inner['Above_Avg'] = df_inner['Score'] > avg_scores\n",
    "\n",
    "print(df_inner)"
   ]
  },
  {
   "cell_type": "code",
   "execution_count": 4,
   "id": "ebb33d7d-e6ed-456b-9d0e-31b2df5ee45c",
   "metadata": {},
   "outputs": [
    {
     "name": "stdout",
     "output_type": "stream",
     "text": [
      "          mean       std\n",
      "Subject                 \n",
      "Math     85.00  4.082483\n",
      "Science  88.25  7.410578\n",
      "  Name  Age  Score  Subject\n",
      "1  Bob   25     90     Math\n",
      "5  Bob   25     95  Science\n"
     ]
    }
   ],
   "source": [
    "# Exercise5\n",
    "df = pd.read_csv('student_data.csv')\n",
    "\n",
    "# Group by Subject\n",
    "group_stats = df.groupby('Subject')['Score'].agg(['mean', 'std'])\n",
    "print(group_stats)\n",
    "\n",
    "# Top student per subject\n",
    "top_students = df.loc[df.groupby('Subject')['Score'].idxmax()]\n",
    "print(top_students)"
   ]
  },
  {
   "cell_type": "code",
   "execution_count": 5,
   "id": "d152ddf8-6933-4140-987a-86413b47a2d3",
   "metadata": {},
   "outputs": [
    {
     "name": "stdout",
     "output_type": "stream",
     "text": [
      "         Age  Score  Attendance\n",
      "Name                           \n",
      "Alice     22     85          87\n",
      "Bob       25     90          85\n",
      "Charlie   19     80          84\n",
      "Diana     30     85          92\n",
      "Name\n",
      "Alice      86.5\n",
      "Bob        92.5\n",
      "Charlie    79.0\n",
      "Diana      88.5\n",
      "Name: Score, dtype: float64\n"
     ]
    }
   ],
   "source": [
    "#Exercise6\n",
    "attendance = np.random.randint(80, 100, 8)\n",
    "df = pd.read_csv('student_data.csv')\n",
    "df['Attendance'] = attendance\n",
    "\n",
    "# Set MultiIndex\n",
    "df_multi = df.set_index(['Subject', 'Name'])\n",
    "\n",
    "# Select all Math data\n",
    "math_data = df_multi.loc['Math']\n",
    "print(math_data)\n",
    "\n",
    "# Average score per Name\n",
    "avg_score = df.groupby('Name')['Score'].mean()\n",
    "print(avg_score)"
   ]
  },
  {
   "cell_type": "code",
   "execution_count": 29,
   "id": "ff581882-3702-47d0-b55e-ca1475521286",
   "metadata": {},
   "outputs": [
    {
     "name": "stdout",
     "output_type": "stream",
     "text": [
      "Subject  Math  Science\n",
      "Name                  \n",
      "Alice    85.0     88.0\n",
      "Bob      90.0     95.0\n",
      "Charlie  80.0     78.0\n",
      "Diana    85.0     92.0\n",
      "      Name  Subject  Score\n",
      "0    Alice     Math   85.0\n",
      "1      Bob     Math   90.0\n",
      "2  Charlie     Math   80.0\n",
      "3    Diana     Math   85.0\n",
      "4    Alice  Science   88.0\n",
      "5      Bob  Science   95.0\n",
      "6  Charlie  Science   78.0\n",
      "7    Diana  Science   92.0\n"
     ]
    }
   ],
   "source": [
    "#Exercise7\n",
    "df = pd.read_csv('student_data.csv')\n",
    "\n",
    "# Pivot table\n",
    "pivot = df.pivot_table(index='Name', columns='Subject', values='Score')\n",
    "print(pivot)\n",
    "\n",
    "# Melt back\n",
    "melted = pivot.reset_index().melt(id_vars='Name', value_name='Score', var_name='Subject')\n",
    "print(melted)"
   ]
  },
  {
   "cell_type": "code",
   "execution_count": 6,
   "id": "2d7fce76-e4c2-4a3f-a5dc-66f97344a6c9",
   "metadata": {},
   "outputs": [
    {
     "name": "stdout",
     "output_type": "stream",
     "text": [
      "Weekly sales:\n",
      "             Sales\n",
      "Date             \n",
      "2025-01-05   1751\n",
      "2025-01-12   2065\n",
      "2025-01-19   2041\n",
      "2025-01-26   2244\n",
      "2025-02-02   1379\n",
      "7-day rolling mean:\n",
      " Date\n",
      "2025-01-01           NaN\n",
      "2025-01-02           NaN\n",
      "2025-01-03           NaN\n",
      "2025-01-04           NaN\n",
      "2025-01-05           NaN\n",
      "2025-01-06           NaN\n",
      "2025-01-07    322.714286\n",
      "2025-01-08    335.000000\n",
      "2025-01-09    359.142857\n",
      "2025-01-10    339.142857\n",
      "2025-01-11    320.142857\n",
      "2025-01-12    295.000000\n",
      "2025-01-13    273.571429\n",
      "2025-01-14    296.428571\n",
      "2025-01-15    276.000000\n",
      "2025-01-16    221.142857\n",
      "2025-01-17    244.714286\n",
      "2025-01-18    272.714286\n",
      "2025-01-19    291.571429\n",
      "2025-01-20    320.714286\n",
      "2025-01-21    317.000000\n",
      "2025-01-22    319.285714\n",
      "2025-01-23    345.714286\n",
      "2025-01-24    338.857143\n",
      "2025-01-25    343.857143\n",
      "2025-01-26    320.571429\n",
      "2025-01-27    331.428571\n",
      "2025-01-28    359.857143\n",
      "2025-01-29    359.571429\n",
      "2025-01-30    333.428571\n",
      "Name: Sales, dtype: float64\n"
     ]
    }
   ],
   "source": [
    "#Exercise8\n",
    "dates = pd.date_range('2025-01-01', periods=30)\n",
    "sales = np.random.randint(100, 500, 30)\n",
    "df_sales = pd.DataFrame({'Date': dates, 'Sales': sales}).set_index('Date')\n",
    "\n",
    "# Weekly sum\n",
    "weekly_sales = df_sales.resample('W').sum()\n",
    "print(\"Weekly sales:\\n\", weekly_sales)\n",
    "\n",
    "# 7-day rolling mean\n",
    "rolling_mean = df_sales['Sales'].rolling(window=7).mean()\n",
    "print(\"7-day rolling mean:\\n\", rolling_mean)"
   ]
  },
  {
   "cell_type": "code",
   "execution_count": null,
   "id": "f77d5e77-25fe-4b14-acb6-5adc808218fa",
   "metadata": {},
   "outputs": [],
   "source": []
  }
 ],
 "metadata": {
  "kernelspec": {
   "display_name": "Python 3 (ipykernel)",
   "language": "python",
   "name": "python3"
  },
  "language_info": {
   "codemirror_mode": {
    "name": "ipython",
    "version": 3
   },
   "file_extension": ".py",
   "mimetype": "text/x-python",
   "name": "python",
   "nbconvert_exporter": "python",
   "pygments_lexer": "ipython3",
   "version": "3.12.7"
  }
 },
 "nbformat": 4,
 "nbformat_minor": 5
}
